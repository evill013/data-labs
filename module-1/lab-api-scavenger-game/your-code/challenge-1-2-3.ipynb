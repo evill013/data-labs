{
 "cells": [
  {
   "cell_type": "code",
   "execution_count": null,
   "metadata": {},
   "outputs": [],
   "source": [
    "##CHALLENGE-1"
   ]
  },
  {
   "cell_type": "code",
   "execution_count": 1,
   "metadata": {},
   "outputs": [
    {
     "data": {
      "text/plain": [
       "array([None, 'Jupyter Notebook', 'HTML'], dtype=object)"
      ]
     },
     "execution_count": 1,
     "metadata": {},
     "output_type": "execute_result"
    }
   ],
   "source": [
    "import requests\n",
    "import pandas as pd\n",
    "\n",
    "#Token and username must be changed\n",
    "username = 'evi*****'\n",
    "token = '**62120b06d80666333a157d67e324b05f*****'\n",
    "\n",
    "path = '/Users/mvillavicencio/forks.json'\n",
    "#url = \"https://api.github.com/repos/ironhack-labs/data-labs/fork\"\n",
    "file = open(path, \"r\")\n",
    "data_forks= pd.read_json(file)\n",
    "#data_forks['language']\n",
    "data_forks['language'].unique()\n"
   ]
  },
  {
   "cell_type": "code",
   "execution_count": 4,
   "metadata": {},
   "outputs": [],
   "source": [
    "##CHALLENGE-2"
   ]
  },
  {
   "cell_type": "code",
   "execution_count": null,
   "metadata": {},
   "outputs": [],
   "source": [
    "import requests\n",
    "import pandas as pd\n",
    "\n",
    "#Credentials\n",
    "#Token and username must be changed\n",
    "username = 'evi*****'\n",
    "token = '**62120b06d80666333a157d67e324b05f*****'\n",
    "\n",
    "#Connecting to API using token\n",
    "url = \"https://api.github.com/repos/ironhack-labs/data-labs/commits?since=\"+str(past_week)+\"T00:00:00&until=\"+str(now)+\"T23:59:59\"\n",
    "login = requests.get(url, auth=(username,token))\n",
    "\n",
    "#Building object to count commits in the last past week\n",
    "response=login.json()\n",
    "data_commit = pd.DataFrame(response)\n",
    "result = data_commit['commit'].count()\n",
    "print('Numbers of commits =',result)\n"
   ]
  },
  {
   "cell_type": "code",
   "execution_count": null,
   "metadata": {},
   "outputs": [],
   "source": [
    "##CHALLENGE-3"
   ]
  },
  {
   "cell_type": "code",
   "execution_count": null,
   "metadata": {},
   "outputs": [],
   "source": [
    "import requests\n",
    "import pandas as pd\n",
    "\n",
    "#Credentials\n",
    "#Token and username must be changed\n",
    "username = 'evi*****'\n",
    "token = '**62120b06d80666333a157d67e324b05f*****'\n",
    "\n",
    "#Connecting to API using token\n",
    "url = \"https://api.github.com/repos/ironhack-datalabs/scavenger/contents\"\n",
    "login = requests.get(url, auth=(username,token))\n",
    "\n",
    "#Creating a dataframe from object\n",
    "response=login.json()\n",
    "data_hunt = pd.DataFrame(response)\n",
    "\n",
    "#Creating a list of directories\n",
    "path_list= [col for col in data_hunt['path']]\n",
    "\n",
    "\n",
    "#Function to build urls\n",
    "def buildURL(url):\n",
    "    directories=[]\n",
    "    for f in path_list:\n",
    "        file = url+\"/\"+f\n",
    "        directories.append(file)\n",
    "    return directories\n",
    "\n",
    "#Open diretory and read files\n",
    "dir_lst = buildURL(url)\n",
    "del dir_lst[0]\n",
    "dir_lst\n",
    "\n",
    "def openDir(dirs):\n",
    "    username = 'evi*****'\n",
    "    token = '**62120b06d80666333a157d67e324b05f*****'\n",
    "    file_df= []\n",
    "    \n",
    "    for file in dir_lst:\n",
    "        url = file\n",
    "        login = requests.get(url, auth=(username,token))\n",
    "        response=login.json()\n",
    "        file_hunt = pd.DataFrame(response)\n",
    "        file_df.append(file_hunt)\n",
    "    return pd.concat(file_df)\n",
    "    \n",
    "file_scavenger = openDir(dir_lst)\n",
    "\n",
    "#Get files ending in 'scavengerhunt'\n",
    "def listSca(dataframe):\n",
    "   return dataframe.loc[dataframe['name'].str.endswith('scavengerhunt')]\n",
    "\n",
    "finale = listSca(file_scavenger).sort_values(by=['name'])\n",
    "\n",
    "#Reset dataframe´s index\n",
    "finale = finale['download_url'].reset_index()\n",
    "_lst=finale.download_url\n",
    "\n",
    "#Opens the RAW url to retrieve content in 'scavenger' files and concatenates the strings of every file\n",
    "#into a single list.\n",
    "\n",
    "def openRaw(_lst):\n",
    "    username = 'evi*****'\n",
    "    token = '**62120b06d80666333a157d67e324b05f*****'\n",
    "\n",
    "    contents = [] \n",
    "    seperator = ', '\n",
    "\n",
    "    for url in _lst: \n",
    "        word = (requests.get(url).text).strip()\n",
    "        contents.append(word)\n",
    "        \n",
    "    return seperator.join(contents).replace(',',' ')\n",
    "\n",
    "openRaw(_lst)\n",
    "\n",
    "\n"
   ]
  }
 ],
 "metadata": {
  "celltoolbar": "Raw Cell Format",
  "kernelspec": {
   "display_name": "Python 3",
   "language": "python",
   "name": "python3"
  },
  "language_info": {
   "codemirror_mode": {
    "name": "ipython",
    "version": 3
   },
   "file_extension": ".py",
   "mimetype": "text/x-python",
   "name": "python",
   "nbconvert_exporter": "python",
   "pygments_lexer": "ipython3",
   "version": "3.7.4"
  }
 },
 "nbformat": 4,
 "nbformat_minor": 2
}
